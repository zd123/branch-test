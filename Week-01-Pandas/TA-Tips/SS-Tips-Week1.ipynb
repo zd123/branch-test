{
 "cells": [
  {
   "cell_type": "code",
   "execution_count": null,
   "metadata": {},
   "outputs": [],
   "source": [
    "# Jupyter Notebook Tips and Tricks\n",
    "\n",
    "# Command Mode Shortcuts (Press Esc to enter Command Mode):\n",
    "\n",
    "# Enter: Enter Edit Mode (to edit a cell)\n",
    "# Shift + Enter: Run the current cell and move to the next cell\n",
    "# Ctrl + Enter: Run the current cell and stay in the same cell\n",
    "# Y: Change the cell type to code\n",
    "# M: Change the cell type to markdown\n",
    "# A: Insert a cell above the current cell\n",
    "# B: Insert a cell below the current cell\n",
    "# X: Cut the current cell\n",
    "# C: Copy the current cell\n",
    "# V: Paste cells below the current cell\n",
    "# D, D (Press D twice): Delete the current cell\n",
    "# Z: Undo cell deletion\n",
    "# Shift + M: Merge selected cells\n",
    "# Shift + Up: Extend selected cells above\n",
    "# Shift + Down: Extend selected cells below\n",
    "# Shift + Space: Scroll notebook up\n",
    "# Space: Scroll notebook down\n",
    "\n",
    "# Edit Mode Shortcuts (Press Enter to enter Edit Mode):\n",
    "\n",
    "# Tab: Code completion or indent\n",
    "# Shift + Tab: Tooltip with function/method signature\n",
    "# Ctrl + ]: Indent\n",
    "# Ctrl + [: Dedent\n",
    "# Ctrl + /: Comment/uncomment selected lines\n",
    "# Ctrl + Shift + - (Minus): Split cell at cursor\n",
    "# Ctrl + S: Save notebook\n",
    "\n",
    "# Other Shortcuts:\n",
    "\n",
    "# 0, 0 (Press 0 twice): Restart the kernel\n",
    "# Shift + L: Toggle line numbers in code cells\n",
    "# O: Toggle cell output\n",
    "# H: Show keyboard shortcuts dialog"
   ]
  }
 ],
 "metadata": {
  "kernelspec": {
   "display_name": "Python 3",
   "language": "python",
   "name": "python3"
  },
  "language_info": {
   "codemirror_mode": {
    "name": "ipython",
    "version": 3
   },
   "file_extension": ".py",
   "mimetype": "text/x-python",
   "name": "python",
   "nbconvert_exporter": "python",
   "pygments_lexer": "ipython3",
   "version": "3.8.5"
  }
 },
 "nbformat": 4,
 "nbformat_minor": 4
}
